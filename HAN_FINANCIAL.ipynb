{
  "nbformat": 4,
  "nbformat_minor": 0,
  "metadata": {
    "colab": {
      "name": "HAN_FINANCIALipynb",
      "provenance": []
    },
    "kernelspec": {
      "name": "python3",
      "display_name": "Python 3"
    },
    "language_info": {
      "name": "python"
    }
  },
  "cells": [
    {
      "cell_type": "code",
      "execution_count": 14,
      "metadata": {
        "colab": {
          "base_uri": "https://localhost:8080/"
        },
        "id": "_E2qAYjYsMvL",
        "outputId": "9697cd64-9819-49b8-aa78-bfd87a30ced7"
      },
      "outputs": [
        {
          "output_type": "stream",
          "name": "stdout",
          "text": [
            "Archive:  /content/archive.zip\n",
            "  inflating: glove.6B.100d.txt       \n"
          ]
        }
      ],
      "source": [
        "# unzip glove.6B.100d.txt\n",
        "!unzip /content/archive.zip"
      ]
    },
    {
      "cell_type": "code",
      "source": [
        "import numpy as np\n",
        "import pandas as pd\n",
        "from matplotlib import pyplot as plt\n",
        "import math\n",
        "import string\n",
        "import requests\n",
        "import re\n",
        "from bs4 import BeautifulSoup"
      ],
      "metadata": {
        "id": "SVZlcUi-v7w5"
      },
      "execution_count": 15,
      "outputs": []
    },
    {
      "cell_type": "code",
      "source": [
        "import os\n",
        "import sys\n",
        "import urllib\n",
        "import gzip\n",
        "from IPython.display import display, HTML"
      ],
      "metadata": {
        "id": "V6bUu-Rfv9zd"
      },
      "execution_count": 16,
      "outputs": []
    },
    {
      "cell_type": "code",
      "source": [
        "import nltk\n",
        "from nltk import tokenize\n",
        "nltk.download('punkt')\n",
        "from nltk.corpus import stopwords\n",
        "nltk.download('stopwords')\n",
        "from nltk.stem import WordNetLemmatizer\n",
        "nltk.download('wordnet')"
      ],
      "metadata": {
        "colab": {
          "base_uri": "https://localhost:8080/"
        },
        "id": "OL_OSGvYwAmP",
        "outputId": "c2cf5827-9a29-49a4-c7c3-cd696ec8e7fb"
      },
      "execution_count": 17,
      "outputs": [
        {
          "output_type": "stream",
          "name": "stdout",
          "text": [
            "[nltk_data] Downloading package punkt to /root/nltk_data...\n",
            "[nltk_data]   Package punkt is already up-to-date!\n",
            "[nltk_data] Downloading package stopwords to /root/nltk_data...\n",
            "[nltk_data]   Package stopwords is already up-to-date!\n",
            "[nltk_data] Downloading package wordnet to /root/nltk_data...\n",
            "[nltk_data]   Package wordnet is already up-to-date!\n"
          ]
        },
        {
          "output_type": "execute_result",
          "data": {
            "text/plain": [
              "True"
            ]
          },
          "metadata": {},
          "execution_count": 17
        }
      ]
    },
    {
      "cell_type": "code",
      "source": [
        "import pip\n",
        "import theano\n",
        "import keras\n",
        "from keras.preprocessing.sequence import pad_sequences\n",
        "from keras.preprocessing.text import Tokenizer,  text_to_word_sequence\n",
        "from keras import initializers as initializers, regularizers, constraints\n",
        "from keras.layers import Dense, Dropout, Activation, Flatten, Input\n",
        "from keras.layers import Convolution2D, MaxPooling2D, Embedding, Dropout, LSTM, GRU, Bidirectional, TimeDistributed\n",
        "from keras.models import Sequential, Model, load_model\n",
        "from keras import backend as K\n",
        "from tensorflow.keras.layers import Layer\n",
        "from keras.utils.vis_utils import plot_model\n",
        "from keras.utils import np_utils\n",
        "from keras.utils.np_utils import to_categorical"
      ],
      "metadata": {
        "id": "AorpfQTvwDaA"
      },
      "execution_count": 18,
      "outputs": []
    },
    {
      "cell_type": "code",
      "source": [
        "def cleanString(review, stopWords):  #----- REVIEW ? -----#\n",
        "  lemmatizer = WordNetLemmatizer()\n",
        "  returnString = \"\"\n",
        "  sentence_token = tokenize.sent_tokenize(review)\n",
        "  idx_list = []\n",
        "  for j in range(len(sentence_token)):\n",
        "    single_sentence = tokenize.word_tokenize(sentence_token[j])\n",
        "    sentences_filtered = [(idx, lemmatizer.lemmatize(w.lower())) for idx, w in enumerate(single_sentence) if w.lower() not in stopWords and w.isalnum()]\n",
        "    idx_list.append([x[0] for x in sentences_filtered])\n",
        "    word_list = [x[1] for x in sentences_filtered]\n",
        "    returnString = returnString + ' '.join(word_list) + ' . '\n",
        "\n",
        "  return returnString, idx_list\n",
        "\n",
        "\n",
        "def split_df(dataframe, column_name, training_split = 0.6, validation_split = 0.2, test_split = 0.2):\n",
        "  if training_split + validation_split + test_split != 1.0:\n",
        "    raise ValueError(\"Split parameter sum should be equal to 1.0\")\n",
        "\n",
        "  total = len(dataframe.index)\n",
        "\n",
        "  train = dataframe.reset_index().groupby(column_name).apply(lambda x: x.sample(frac=training_split))\\\n",
        "    .reset_index(drop=True).set_index('index')\n",
        "  train = train.sample(frac=1)\n",
        "  temp_df = dataframe.drop(train.index)\n",
        "  validation = temp_df.reset_index().groupby(column_name)\\\n",
        "    .apply(lambda x: x.sample(frac=validation_split/(test_split+validation_split)))\\\n",
        "           .reset_index(drop=True).set_index('index')\n",
        "  validation = validation.sample(frac=1)\n",
        "  test = temp_df.drop(validation.index)\n",
        "  test = test.sample(frac=1)\n",
        "    \n",
        "  print('Total: ', len(dataframe))\n",
        "  print('Training: ', len(train), ', Percentage: ', len(train)/len(dataframe))\n",
        "  print('Validation: ', len(validation), ', Percentage: ', len(validation)/len(dataframe))\n",
        "  print('Test:', len(test), ', Percentage: ', len(test)/len(dataframe))\n",
        "\n",
        "  return train, validation, test\n",
        "\n",
        "def wordToSeq(text,word_index,max_sentences,max_words,max_features):\n",
        "    sentences = tokenize.sent_tokenize(text)\n",
        "    data = np.zeros((max_sentences, max_words), dtype='int32')\n",
        "    for j, sent in enumerate(sentences):\n",
        "        if j< max_sentences:\n",
        "            wordTokens = tokenize.word_tokenize(sent.rstrip('.'))\n",
        "            wordTokens = [w for w in wordTokens]\n",
        "            k=0\n",
        "            for _, word in enumerate(wordTokens):\n",
        "                try:\n",
        "                    if k<max_words and word_index[word]<max_features:\n",
        "                        data[j,k] = word_index[word]\n",
        "                        k=k+1\n",
        "                except:\n",
        "                    pass\n",
        "    return data\n",
        "\n",
        "def to_categorical(series,class_dict):\n",
        "    n_classes = len(class_dict)\n",
        "    new_dict = {}\n",
        "    for key,value in class_dict.items():\n",
        "        cat_list = [0] * n_classes\n",
        "        cat_list[key] = 1\n",
        "        new_dict[key] = cat_list\n",
        "    y_cat = []\n",
        "    for key,value in series.iteritems():\n",
        "        y_cat.append(new_dict[value])\n",
        "    return np.array(y_cat)"
      ],
      "metadata": {
        "id": "A4KLVy8fw00H"
      },
      "execution_count": 20,
      "outputs": []
    },
    {
      "cell_type": "code",
      "source": [
        "class AttentionLayer(Layer):\n",
        "    \"\"\"\n",
        "    Hierarchial Attention Layer as described by Hierarchical Attention Networks for Document Classification(2016)\n",
        "    - Yang et. al.\n",
        "    Source: https://www.cs.cmu.edu/~hovy/papers/16HLT-hierarchical-attention-networks.pdf\n",
        "    Theano backend\n",
        "    \"\"\"\n",
        "    def __init__(self,attention_dim=100,return_coefficients=False,**kwargs):\n",
        "        # Initializer \n",
        "        self.supports_masking = True\n",
        "        self.return_coefficients = return_coefficients\n",
        "        self.init = initializers.get('glorot_uniform') # initializes values with uniform distribution\n",
        "        self.attention_dim = attention_dim\n",
        "        super(AttentionLayer, self).__init__(**kwargs)\n",
        "\n",
        "    def build(self, input_shape):\n",
        "        # Builds all weights\n",
        "        # W = Weight matrix, b = bias vector, u = context vector\n",
        "        assert len(input_shape) == 3\n",
        "        self.W = K.variable(self.init((input_shape[-1], self.attention_dim)),name='W')\n",
        "        self.b = K.variable(self.init((self.attention_dim, )),name='b')\n",
        "        self.u = K.variable(self.init((self.attention_dim, 1)),name='u')\n",
        "        self._trainable_weights = [self.W, self.b, self.u]\n",
        "\n",
        "        super(AttentionLayer, self).build(input_shape)\n",
        "\n",
        "    def compute_mask(self, input, input_mask=None):\n",
        "        return None\n",
        "\n",
        "    def call(self, hit, mask=None):\n",
        "        # Here, the actual calculation is done\n",
        "        uit = K.bias_add(K.dot(hit, self.W),self.b)\n",
        "        uit = K.tanh(uit)\n",
        "        \n",
        "        ait = K.dot(uit, self.u)\n",
        "        ait = K.squeeze(ait, -1)\n",
        "        ait = K.exp(ait)\n",
        "        \n",
        "        if mask is not None:\n",
        "            ait *= K.cast(mask, K.floatx())\n",
        "\n",
        "        ait /= K.cast(K.sum(ait, axis=1, keepdims=True) + K.epsilon(), K.floatx())\n",
        "        ait = K.expand_dims(ait)\n",
        "        weighted_input = hit * ait\n",
        "        \n",
        "        if self.return_coefficients:\n",
        "            return [K.sum(weighted_input, axis=1), ait]\n",
        "        else:\n",
        "            return K.sum(weighted_input, axis=1)\n",
        "\n",
        "    def compute_output_shape(self, input_shape):\n",
        "        if self.return_coefficients:\n",
        "            return [(input_shape[0], input_shape[-1]), (input_shape[0], input_shape[-1], 1)]\n",
        "        else:\n",
        "            return input_shape[0], input_shape[-1]\n",
        "\n",
        "    #----- CODE FOR OVERRIDE -----#\n",
        "    \n",
        "    def get_config(self):\n",
        "      config = super().get_config()\n",
        "      config.update({\n",
        "          'attention_dim' : self.attention_dim,\n",
        "          'return_coefficients' : self.return_coefficients\n",
        "      })\n",
        "      return config"
      ],
      "metadata": {
        "id": "GgUpUKAaw7k0"
      },
      "execution_count": 21,
      "outputs": []
    },
    {
      "cell_type": "code",
      "source": [
        "data_df=pd.read_csv('Fin.csv')\n",
        "display(data_df)\n",
        "data_df['Text']=data_df['Text'].apply(str)\n",
        "result=data_df.dtypes\n",
        "print(result)"
      ],
      "metadata": {
        "colab": {
          "base_uri": "https://localhost:8080/",
          "height": 476
        },
        "id": "d2qt9rIextrC",
        "outputId": "6c236ffb-1832-4f84-912d-da8ce65814c9"
      },
      "execution_count": 29,
      "outputs": [
        {
          "output_type": "display_data",
          "data": {
            "text/plain": [
              "                                                    Text  Category\n",
              "0      Florida raking in billions as Americans abando...         0\n",
              "1      Recently, changes to the U.S. tax code have en...         0\n",
              "2      MORE FROM FOXBUSINESS.COM... As it turns out, ...         0\n",
              "3      According to a new study from LendingTree, whi...         0\n",
              "4      The Sunshine State drew in a net influx of abo...         1\n",
              "...                                                  ...       ...\n",
              "22053                                    That's correct.         0\n",
              "22054  Fining a company - which in effect just fines ...         0\n",
              "22055                         It was securing the bribe.         0\n",
              "22056  Disrupting Democracy: When Big Tech Takes Over...         0\n",
              "22057  Google Is Like Facebook - but a Lot Smarter  M...         0\n",
              "\n",
              "[22058 rows x 2 columns]"
            ],
            "text/html": [
              "\n",
              "  <div id=\"df-e6212661-6e26-41e7-bb98-d946bf70f336\">\n",
              "    <div class=\"colab-df-container\">\n",
              "      <div>\n",
              "<style scoped>\n",
              "    .dataframe tbody tr th:only-of-type {\n",
              "        vertical-align: middle;\n",
              "    }\n",
              "\n",
              "    .dataframe tbody tr th {\n",
              "        vertical-align: top;\n",
              "    }\n",
              "\n",
              "    .dataframe thead th {\n",
              "        text-align: right;\n",
              "    }\n",
              "</style>\n",
              "<table border=\"1\" class=\"dataframe\">\n",
              "  <thead>\n",
              "    <tr style=\"text-align: right;\">\n",
              "      <th></th>\n",
              "      <th>Text</th>\n",
              "      <th>Category</th>\n",
              "    </tr>\n",
              "  </thead>\n",
              "  <tbody>\n",
              "    <tr>\n",
              "      <th>0</th>\n",
              "      <td>Florida raking in billions as Americans abando...</td>\n",
              "      <td>0</td>\n",
              "    </tr>\n",
              "    <tr>\n",
              "      <th>1</th>\n",
              "      <td>Recently, changes to the U.S. tax code have en...</td>\n",
              "      <td>0</td>\n",
              "    </tr>\n",
              "    <tr>\n",
              "      <th>2</th>\n",
              "      <td>MORE FROM FOXBUSINESS.COM... As it turns out, ...</td>\n",
              "      <td>0</td>\n",
              "    </tr>\n",
              "    <tr>\n",
              "      <th>3</th>\n",
              "      <td>According to a new study from LendingTree, whi...</td>\n",
              "      <td>0</td>\n",
              "    </tr>\n",
              "    <tr>\n",
              "      <th>4</th>\n",
              "      <td>The Sunshine State drew in a net influx of abo...</td>\n",
              "      <td>1</td>\n",
              "    </tr>\n",
              "    <tr>\n",
              "      <th>...</th>\n",
              "      <td>...</td>\n",
              "      <td>...</td>\n",
              "    </tr>\n",
              "    <tr>\n",
              "      <th>22053</th>\n",
              "      <td>That's correct.</td>\n",
              "      <td>0</td>\n",
              "    </tr>\n",
              "    <tr>\n",
              "      <th>22054</th>\n",
              "      <td>Fining a company - which in effect just fines ...</td>\n",
              "      <td>0</td>\n",
              "    </tr>\n",
              "    <tr>\n",
              "      <th>22055</th>\n",
              "      <td>It was securing the bribe.</td>\n",
              "      <td>0</td>\n",
              "    </tr>\n",
              "    <tr>\n",
              "      <th>22056</th>\n",
              "      <td>Disrupting Democracy: When Big Tech Takes Over...</td>\n",
              "      <td>0</td>\n",
              "    </tr>\n",
              "    <tr>\n",
              "      <th>22057</th>\n",
              "      <td>Google Is Like Facebook - but a Lot Smarter  M...</td>\n",
              "      <td>0</td>\n",
              "    </tr>\n",
              "  </tbody>\n",
              "</table>\n",
              "<p>22058 rows × 2 columns</p>\n",
              "</div>\n",
              "      <button class=\"colab-df-convert\" onclick=\"convertToInteractive('df-e6212661-6e26-41e7-bb98-d946bf70f336')\"\n",
              "              title=\"Convert this dataframe to an interactive table.\"\n",
              "              style=\"display:none;\">\n",
              "        \n",
              "  <svg xmlns=\"http://www.w3.org/2000/svg\" height=\"24px\"viewBox=\"0 0 24 24\"\n",
              "       width=\"24px\">\n",
              "    <path d=\"M0 0h24v24H0V0z\" fill=\"none\"/>\n",
              "    <path d=\"M18.56 5.44l.94 2.06.94-2.06 2.06-.94-2.06-.94-.94-2.06-.94 2.06-2.06.94zm-11 1L8.5 8.5l.94-2.06 2.06-.94-2.06-.94L8.5 2.5l-.94 2.06-2.06.94zm10 10l.94 2.06.94-2.06 2.06-.94-2.06-.94-.94-2.06-.94 2.06-2.06.94z\"/><path d=\"M17.41 7.96l-1.37-1.37c-.4-.4-.92-.59-1.43-.59-.52 0-1.04.2-1.43.59L10.3 9.45l-7.72 7.72c-.78.78-.78 2.05 0 2.83L4 21.41c.39.39.9.59 1.41.59.51 0 1.02-.2 1.41-.59l7.78-7.78 2.81-2.81c.8-.78.8-2.07 0-2.86zM5.41 20L4 18.59l7.72-7.72 1.47 1.35L5.41 20z\"/>\n",
              "  </svg>\n",
              "      </button>\n",
              "      \n",
              "  <style>\n",
              "    .colab-df-container {\n",
              "      display:flex;\n",
              "      flex-wrap:wrap;\n",
              "      gap: 12px;\n",
              "    }\n",
              "\n",
              "    .colab-df-convert {\n",
              "      background-color: #E8F0FE;\n",
              "      border: none;\n",
              "      border-radius: 50%;\n",
              "      cursor: pointer;\n",
              "      display: none;\n",
              "      fill: #1967D2;\n",
              "      height: 32px;\n",
              "      padding: 0 0 0 0;\n",
              "      width: 32px;\n",
              "    }\n",
              "\n",
              "    .colab-df-convert:hover {\n",
              "      background-color: #E2EBFA;\n",
              "      box-shadow: 0px 1px 2px rgba(60, 64, 67, 0.3), 0px 1px 3px 1px rgba(60, 64, 67, 0.15);\n",
              "      fill: #174EA6;\n",
              "    }\n",
              "\n",
              "    [theme=dark] .colab-df-convert {\n",
              "      background-color: #3B4455;\n",
              "      fill: #D2E3FC;\n",
              "    }\n",
              "\n",
              "    [theme=dark] .colab-df-convert:hover {\n",
              "      background-color: #434B5C;\n",
              "      box-shadow: 0px 1px 3px 1px rgba(0, 0, 0, 0.15);\n",
              "      filter: drop-shadow(0px 1px 2px rgba(0, 0, 0, 0.3));\n",
              "      fill: #FFFFFF;\n",
              "    }\n",
              "  </style>\n",
              "\n",
              "      <script>\n",
              "        const buttonEl =\n",
              "          document.querySelector('#df-e6212661-6e26-41e7-bb98-d946bf70f336 button.colab-df-convert');\n",
              "        buttonEl.style.display =\n",
              "          google.colab.kernel.accessAllowed ? 'block' : 'none';\n",
              "\n",
              "        async function convertToInteractive(key) {\n",
              "          const element = document.querySelector('#df-e6212661-6e26-41e7-bb98-d946bf70f336');\n",
              "          const dataTable =\n",
              "            await google.colab.kernel.invokeFunction('convertToInteractive',\n",
              "                                                     [key], {});\n",
              "          if (!dataTable) return;\n",
              "\n",
              "          const docLinkHtml = 'Like what you see? Visit the ' +\n",
              "            '<a target=\"_blank\" href=https://colab.research.google.com/notebooks/data_table.ipynb>data table notebook</a>'\n",
              "            + ' to learn more about interactive tables.';\n",
              "          element.innerHTML = '';\n",
              "          dataTable['output_type'] = 'display_data';\n",
              "          await google.colab.output.renderOutput(dataTable, element);\n",
              "          const docLink = document.createElement('div');\n",
              "          docLink.innerHTML = docLinkHtml;\n",
              "          element.appendChild(docLink);\n",
              "        }\n",
              "      </script>\n",
              "    </div>\n",
              "  </div>\n",
              "  "
            ]
          },
          "metadata": {}
        },
        {
          "output_type": "stream",
          "name": "stdout",
          "text": [
            "Text        object\n",
            "Category     int64\n",
            "dtype: object\n"
          ]
        }
      ]
    },
    {
      "cell_type": "code",
      "source": [
        "\"\"\"\n",
        "Compute average number of words in each sentence and average number of sentences in each document.\n",
        "\"\"\"\n",
        "n_sent = 0\n",
        "n_words = 0\n",
        "for i in range(data_df.shape[0]):\n",
        "    sent = tokenize.sent_tokenize(data_df.loc[i,'Text'])\n",
        "    for satz in sent:\n",
        "        n_words += len(tokenize.word_tokenize(satz))\n",
        "    n_sent += len(sent)\n",
        "    \n",
        "print(\"Average number of words in each sentence: \",round(n_words/n_sent))\n",
        "print(\"Average number of sentences in each document: \", round(n_sent/data_df.shape[0]))"
      ],
      "metadata": {
        "colab": {
          "base_uri": "https://localhost:8080/"
        },
        "id": "775XGbgI2cIB",
        "outputId": "db0c368b-a98f-4103-8531-5e210fa23411"
      },
      "execution_count": 30,
      "outputs": [
        {
          "output_type": "stream",
          "name": "stdout",
          "text": [
            "Average number of words in each sentence:  25\n",
            "Average number of sentences in each document:  2\n"
          ]
        }
      ]
    },
    {
      "cell_type": "code",
      "source": [
        "MAX_FEATURES = 200000 # maximum number of unique words that should be included in the tokenized word index\n",
        "MAX_SENTENCE_NUM = 40 # maximum number of sentences in one document\n",
        "MAX_WORD_NUM = 50     # maximum number of words in each sentence\n",
        "EMBED_SIZE = 100      # vector size of word embedding"
      ],
      "metadata": {
        "id": "04nqRvgG5OB1"
      },
      "execution_count": 31,
      "outputs": []
    },
    {
      "cell_type": "code",
      "source": [
        "\"\"\"\n",
        "Cleans raw data using the cleanString() function from above.\n",
        "English stopwords are used from nltk library.\n",
        "Cleaned dataset is saved in 'data_cleaned' pandas dataframe.\n",
        "Labels are converted to numbers,\n",
        "\"\"\"\n",
        "articles = []\n",
        "n = data_df['Text'].shape[0]\n",
        "col_number = data_df.columns.get_loc('Text')\n",
        "stopWords = set(stopwords.words('english'))\n",
        "data_cleaned = data_df.copy()\n",
        "for i in range(n):\n",
        "    temp_string,idx_string = cleanString(data_df.iloc[i,col_number],stopWords)\n",
        "    articles.append(temp_string)\n",
        "    print(str(i+1)+' of '+str(n)+\" articles cleaned.\",end='\\r')\n",
        "    \n",
        "data_cleaned.loc[:,'Text'] = pd.Series(articles,index=data_df.index)\n",
        "data_cleaned.loc[:,'Category'] = pd.Categorical(data_cleaned.Category)\n",
        "data_cleaned['Code'] = data_cleaned.Category.cat.codes\n",
        "categoryToCode = dict( enumerate(data_cleaned['Category'].cat.categories))\n",
        "\n",
        "data_cleaned.head()"
      ],
      "metadata": {
        "colab": {
          "base_uri": "https://localhost:8080/",
          "height": 206
        },
        "id": "OGmptqvz5SZQ",
        "outputId": "1c33c10b-3ff7-4eac-e14a-2ff7bb8df260"
      },
      "execution_count": 32,
      "outputs": [
        {
          "output_type": "stream",
          "name": "stdout",
          "text": [
            ""
          ]
        },
        {
          "output_type": "execute_result",
          "data": {
            "text/plain": [
              "                                                Text Category  Code\n",
              "0  florida raking billion american abandon state ...        0     0\n",
              "1  recently change tax code encouraged increasing...        0     0\n",
              "2  turn however florida banking moving trend even...        0     0\n",
              "3  according new study lendingtree analyzed irs d...        0     0\n",
              "4  sunshine state drew net influx billion adjuste...        1     1"
            ],
            "text/html": [
              "\n",
              "  <div id=\"df-02f9bc0b-4d9d-4a8a-aa80-9827a722cacd\">\n",
              "    <div class=\"colab-df-container\">\n",
              "      <div>\n",
              "<style scoped>\n",
              "    .dataframe tbody tr th:only-of-type {\n",
              "        vertical-align: middle;\n",
              "    }\n",
              "\n",
              "    .dataframe tbody tr th {\n",
              "        vertical-align: top;\n",
              "    }\n",
              "\n",
              "    .dataframe thead th {\n",
              "        text-align: right;\n",
              "    }\n",
              "</style>\n",
              "<table border=\"1\" class=\"dataframe\">\n",
              "  <thead>\n",
              "    <tr style=\"text-align: right;\">\n",
              "      <th></th>\n",
              "      <th>Text</th>\n",
              "      <th>Category</th>\n",
              "      <th>Code</th>\n",
              "    </tr>\n",
              "  </thead>\n",
              "  <tbody>\n",
              "    <tr>\n",
              "      <th>0</th>\n",
              "      <td>florida raking billion american abandon state ...</td>\n",
              "      <td>0</td>\n",
              "      <td>0</td>\n",
              "    </tr>\n",
              "    <tr>\n",
              "      <th>1</th>\n",
              "      <td>recently change tax code encouraged increasing...</td>\n",
              "      <td>0</td>\n",
              "      <td>0</td>\n",
              "    </tr>\n",
              "    <tr>\n",
              "      <th>2</th>\n",
              "      <td>turn however florida banking moving trend even...</td>\n",
              "      <td>0</td>\n",
              "      <td>0</td>\n",
              "    </tr>\n",
              "    <tr>\n",
              "      <th>3</th>\n",
              "      <td>according new study lendingtree analyzed irs d...</td>\n",
              "      <td>0</td>\n",
              "      <td>0</td>\n",
              "    </tr>\n",
              "    <tr>\n",
              "      <th>4</th>\n",
              "      <td>sunshine state drew net influx billion adjuste...</td>\n",
              "      <td>1</td>\n",
              "      <td>1</td>\n",
              "    </tr>\n",
              "  </tbody>\n",
              "</table>\n",
              "</div>\n",
              "      <button class=\"colab-df-convert\" onclick=\"convertToInteractive('df-02f9bc0b-4d9d-4a8a-aa80-9827a722cacd')\"\n",
              "              title=\"Convert this dataframe to an interactive table.\"\n",
              "              style=\"display:none;\">\n",
              "        \n",
              "  <svg xmlns=\"http://www.w3.org/2000/svg\" height=\"24px\"viewBox=\"0 0 24 24\"\n",
              "       width=\"24px\">\n",
              "    <path d=\"M0 0h24v24H0V0z\" fill=\"none\"/>\n",
              "    <path d=\"M18.56 5.44l.94 2.06.94-2.06 2.06-.94-2.06-.94-.94-2.06-.94 2.06-2.06.94zm-11 1L8.5 8.5l.94-2.06 2.06-.94-2.06-.94L8.5 2.5l-.94 2.06-2.06.94zm10 10l.94 2.06.94-2.06 2.06-.94-2.06-.94-.94-2.06-.94 2.06-2.06.94z\"/><path d=\"M17.41 7.96l-1.37-1.37c-.4-.4-.92-.59-1.43-.59-.52 0-1.04.2-1.43.59L10.3 9.45l-7.72 7.72c-.78.78-.78 2.05 0 2.83L4 21.41c.39.39.9.59 1.41.59.51 0 1.02-.2 1.41-.59l7.78-7.78 2.81-2.81c.8-.78.8-2.07 0-2.86zM5.41 20L4 18.59l7.72-7.72 1.47 1.35L5.41 20z\"/>\n",
              "  </svg>\n",
              "      </button>\n",
              "      \n",
              "  <style>\n",
              "    .colab-df-container {\n",
              "      display:flex;\n",
              "      flex-wrap:wrap;\n",
              "      gap: 12px;\n",
              "    }\n",
              "\n",
              "    .colab-df-convert {\n",
              "      background-color: #E8F0FE;\n",
              "      border: none;\n",
              "      border-radius: 50%;\n",
              "      cursor: pointer;\n",
              "      display: none;\n",
              "      fill: #1967D2;\n",
              "      height: 32px;\n",
              "      padding: 0 0 0 0;\n",
              "      width: 32px;\n",
              "    }\n",
              "\n",
              "    .colab-df-convert:hover {\n",
              "      background-color: #E2EBFA;\n",
              "      box-shadow: 0px 1px 2px rgba(60, 64, 67, 0.3), 0px 1px 3px 1px rgba(60, 64, 67, 0.15);\n",
              "      fill: #174EA6;\n",
              "    }\n",
              "\n",
              "    [theme=dark] .colab-df-convert {\n",
              "      background-color: #3B4455;\n",
              "      fill: #D2E3FC;\n",
              "    }\n",
              "\n",
              "    [theme=dark] .colab-df-convert:hover {\n",
              "      background-color: #434B5C;\n",
              "      box-shadow: 0px 1px 3px 1px rgba(0, 0, 0, 0.15);\n",
              "      filter: drop-shadow(0px 1px 2px rgba(0, 0, 0, 0.3));\n",
              "      fill: #FFFFFF;\n",
              "    }\n",
              "  </style>\n",
              "\n",
              "      <script>\n",
              "        const buttonEl =\n",
              "          document.querySelector('#df-02f9bc0b-4d9d-4a8a-aa80-9827a722cacd button.colab-df-convert');\n",
              "        buttonEl.style.display =\n",
              "          google.colab.kernel.accessAllowed ? 'block' : 'none';\n",
              "\n",
              "        async function convertToInteractive(key) {\n",
              "          const element = document.querySelector('#df-02f9bc0b-4d9d-4a8a-aa80-9827a722cacd');\n",
              "          const dataTable =\n",
              "            await google.colab.kernel.invokeFunction('convertToInteractive',\n",
              "                                                     [key], {});\n",
              "          if (!dataTable) return;\n",
              "\n",
              "          const docLinkHtml = 'Like what you see? Visit the ' +\n",
              "            '<a target=\"_blank\" href=https://colab.research.google.com/notebooks/data_table.ipynb>data table notebook</a>'\n",
              "            + ' to learn more about interactive tables.';\n",
              "          element.innerHTML = '';\n",
              "          dataTable['output_type'] = 'display_data';\n",
              "          await google.colab.output.renderOutput(dataTable, element);\n",
              "          const docLink = document.createElement('div');\n",
              "          docLink.innerHTML = docLinkHtml;\n",
              "          element.appendChild(docLink);\n",
              "        }\n",
              "      </script>\n",
              "    </div>\n",
              "  </div>\n",
              "  "
            ]
          },
          "metadata": {},
          "execution_count": 32
        }
      ]
    },
    {
      "cell_type": "code",
      "source": [
        "\"\"\"\n",
        "Using the keras Tokenizer class a word index is built.\n",
        "The most 'MAX_FEATURES' used words are tokenized to a number.\n",
        "this dictionary is saved in word_index\n",
        "\"\"\"\n",
        "texts = []\n",
        "n = data_cleaned['Text'].shape[0]\n",
        "for i in range(n):\n",
        "    s = data_cleaned['Text'].iloc[i]\n",
        "    s = ' '.join([word.strip(string.punctuation) for word in s.split() if word.strip(string.punctuation) is not \"\"])\n",
        "    texts.append(s)\n",
        "tokenizer = Tokenizer(num_words=MAX_FEATURES,lower=True, oov_token=None)\n",
        "tokenizer.fit_on_texts(texts)\n",
        "word_index = tokenizer.word_index"
      ],
      "metadata": {
        "id": "av4mF7e85hA4"
      },
      "execution_count": 33,
      "outputs": []
    },
    {
      "cell_type": "code",
      "source": [
        "\"\"\"\n",
        "A pre-trained word to vector is used from GloVe by Pennington et. al.\n",
        "Source: https://nlp.stanford.edu/projects/glove/\n",
        "The data was trained on wikipedia articles. Each word is described by a 100d vector.\n",
        "\"\"\"\n",
        "\n",
        "# Load word vectors from pre-trained dataset\n",
        "embeddings_index = {}\n",
        "f = open(os.path.join(os.getcwd(), 'glove.6B.100d.txt'),encoding='UTF-8')\n",
        "for line in f:\n",
        "    values = line.split()\n",
        "    word = values[0]\n",
        "    coefs = np.asarray(values[1:], dtype='float32')\n",
        "    embeddings_index[word] = coefs\n",
        "f.close()\n",
        "print('Found %s word vectors.' % len(embeddings_index))\n",
        "\n",
        "# Search words in our word index in the pre-trained dataset\n",
        "# Create an embedding matrix for our bbc dataset\n",
        "min_wordCount = 0\n",
        "absent_words = 0\n",
        "small_words = 0\n",
        "embedding_matrix = np.zeros((len(word_index) + 1, EMBED_SIZE))\n",
        "word_counts = tokenizer.word_counts\n",
        "for word, i in word_index.items():\n",
        "    if word_counts[word] > min_wordCount:\n",
        "        embedding_vector = embeddings_index.get(word)\n",
        "        if embedding_vector is not None:\n",
        "            # words not found in embedding index will be all-zeros.\n",
        "            embedding_matrix[i] = embedding_vector\n",
        "        else:\n",
        "            absent_words += 1\n",
        "    else:\n",
        "        small_words += 1\n",
        "print('Total absent words are', absent_words, 'which is', \"%0.2f\" % (absent_words * 100 / len(word_index)),\n",
        "      '% of total words')\n",
        "print('Words with '+str(min_wordCount)+' or less mentions', small_words, 'which is', \"%0.2f\" % (small_words * 100 / len(word_index)),\n",
        "      '% of total words')"
      ],
      "metadata": {
        "colab": {
          "base_uri": "https://localhost:8080/"
        },
        "id": "UVW_5nL15oHW",
        "outputId": "95ad4ff5-8c04-41c9-f4e4-1bcd4b126313"
      },
      "execution_count": 34,
      "outputs": [
        {
          "output_type": "stream",
          "name": "stdout",
          "text": [
            "Found 400000 word vectors.\n",
            "Total absent words are 2957 which is 11.88 % of total words\n",
            "Words with 0 or less mentions 0 which is 0.00 % of total words\n"
          ]
        }
      ]
    },
    {
      "cell_type": "code",
      "source": [
        "\"\"\"\n",
        "Split Pandas Dataframe into train, validation and testset.\n",
        "Convert data to keras conforming form\n",
        "\"\"\"\n",
        "print(categoryToCode)\n",
        "train, validation, test = split_df(data_cleaned, 'Code',0.8,0.1,0.1)\n",
        "\n",
        "#Training\n",
        "paras = []\n",
        "for i in range(train['Text'].shape[0]):\n",
        "    sequence = wordToSeq(train['Text'].iloc[i],word_index,MAX_SENTENCE_NUM,MAX_WORD_NUM,MAX_FEATURES)\n",
        "    paras.append(sequence)\n",
        "x_train = np.array(paras)\n",
        "y_train = to_categorical(train['Code'],categoryToCode)\n",
        "\n",
        "#Validation\n",
        "paras = []\n",
        "for i in range(validation['Text'].shape[0]):\n",
        "    sequence = wordToSeq(validation['Text'].iloc[i],word_index,MAX_SENTENCE_NUM,MAX_WORD_NUM,MAX_FEATURES)\n",
        "    paras.append(sequence)\n",
        "x_val = np.array(paras)\n",
        "y_val = to_categorical(validation['Code'],categoryToCode)\n",
        "\n",
        "#Test\n",
        "paras = []\n",
        "for i in range(test['Text'].shape[0]):\n",
        "    sequence = wordToSeq(test['Text'].iloc[i],word_index,MAX_SENTENCE_NUM,MAX_WORD_NUM,MAX_FEATURES)\n",
        "    paras.append(sequence)\n",
        "x_test = np.array(paras)\n",
        "y_test = to_categorical(test['Code'],categoryToCode)"
      ],
      "metadata": {
        "colab": {
          "base_uri": "https://localhost:8080/"
        },
        "id": "mOsfHU6f5xMz",
        "outputId": "52e9118e-ce78-4dab-fc56-14ad41bf86bb"
      },
      "execution_count": 35,
      "outputs": [
        {
          "output_type": "stream",
          "name": "stdout",
          "text": [
            "{0: 0, 1: 1}\n",
            "Total:  22058\n",
            "Training:  17646 , Percentage:  0.7999818659896636\n",
            "Validation:  2206 , Percentage:  0.10000906700516819\n",
            "Test: 2206 , Percentage:  0.10000906700516819\n"
          ]
        }
      ]
    },
    {
      "cell_type": "code",
      "source": [
        "\"\"\"\n",
        "Create Keras functional model for hierarchical attention network\n",
        "\"\"\"\n",
        "embedding_layer = Embedding(len(word_index) + 1,EMBED_SIZE,weights=[embedding_matrix], \n",
        "                            input_length=MAX_WORD_NUM, trainable=False,name='word_embedding')\n",
        "\n",
        "# Words level attention model\n",
        "word_input = Input(shape=(MAX_WORD_NUM,), dtype='int32',name='word_input')\n",
        "word_sequences = embedding_layer(word_input)\n",
        "word_gru = Bidirectional(GRU(50, return_sequences=True),name='word_gru')(word_sequences)\n",
        "word_dense = Dense(100, activation='relu', name='word_dense')(word_gru) \n",
        "word_att,word_coeffs = AttentionLayer(EMBED_SIZE,True,name='word_attention')(word_dense)\n",
        "wordEncoder = Model(inputs = word_input,outputs = word_att)\n",
        "\n",
        "# Sentence level attention model\n",
        "sent_input = Input(shape=(MAX_SENTENCE_NUM,MAX_WORD_NUM), dtype='int32',name='sent_input')\n",
        "sent_encoder = TimeDistributed(wordEncoder,name='sent_linking')(sent_input)\n",
        "sent_gru = Bidirectional(GRU(50, return_sequences=True),name='sent_gru')(sent_encoder)\n",
        "sent_dense = Dense(100, activation='relu', name='sent_dense')(sent_gru) \n",
        "sent_att,sent_coeffs = AttentionLayer(EMBED_SIZE,return_coefficients=True,name='sent_attention')(sent_dense)\n",
        "sent_drop = Dropout(0.5,name='sent_dropout')(sent_att)\n",
        "preds = Dense(2, activation='sigmoid',name='output')(sent_drop)\n",
        "\n",
        "# Model compile\n",
        "model = Model(sent_input, preds)\n",
        "model.compile(loss='binary_crossentropy',optimizer='adam',metrics=['acc'])\n",
        "print(wordEncoder.summary())\n",
        "print(model.summary())\n",
        "\n",
        "plot_model(model, to_file='model.png',show_shapes=True)\n",
        "plot_model(wordEncoder, to_file='wordEncoder.png',show_shapes=True)"
      ],
      "metadata": {
        "colab": {
          "base_uri": "https://localhost:8080/",
          "height": 1000
        },
        "id": "WaEUL9mA59AP",
        "outputId": "d79ac138-f5bc-4271-8cac-129012fa4a9b"
      },
      "execution_count": 52,
      "outputs": [
        {
          "output_type": "stream",
          "name": "stdout",
          "text": [
            "Model: \"model_18\"\n",
            "_________________________________________________________________\n",
            " Layer (type)                Output Shape              Param #   \n",
            "=================================================================\n",
            " word_input (InputLayer)     [(None, 50)]              0         \n",
            "                                                                 \n",
            " word_embedding (Embedding)  (None, 50, 100)           2489900   \n",
            "                                                                 \n",
            " word_gru (Bidirectional)    (None, 50, 100)           45600     \n",
            "                                                                 \n",
            " word_dense (Dense)          (None, 50, 100)           10100     \n",
            "                                                                 \n",
            " word_attention (AttentionLa  [(None, 100),            10200     \n",
            " yer)                         (None, 50, 1)]                     \n",
            "                                                                 \n",
            "=================================================================\n",
            "Total params: 2,555,800\n",
            "Trainable params: 65,900\n",
            "Non-trainable params: 2,489,900\n",
            "_________________________________________________________________\n",
            "None\n",
            "Model: \"model_19\"\n",
            "_________________________________________________________________\n",
            " Layer (type)                Output Shape              Param #   \n",
            "=================================================================\n",
            " sent_input (InputLayer)     [(None, 40, 50)]          0         \n",
            "                                                                 \n",
            " sent_linking (TimeDistribut  (None, 40, 100)          2555800   \n",
            " ed)                                                             \n",
            "                                                                 \n",
            " sent_gru (Bidirectional)    (None, 40, 100)           45600     \n",
            "                                                                 \n",
            " sent_dense (Dense)          (None, 40, 100)           10100     \n",
            "                                                                 \n",
            " sent_attention (AttentionLa  [(None, 100),            10200     \n",
            " yer)                         (None, 40, 1)]                     \n",
            "                                                                 \n",
            " sent_dropout (Dropout)      (None, 100)               0         \n",
            "                                                                 \n",
            " output (Dense)              (None, 2)                 202       \n",
            "                                                                 \n",
            "=================================================================\n",
            "Total params: 2,621,902\n",
            "Trainable params: 132,002\n",
            "Non-trainable params: 2,489,900\n",
            "_________________________________________________________________\n",
            "None\n"
          ]
        },
        {
          "output_type": "execute_result",
          "data": {
            "text/plain": [
              "<IPython.core.display.Image object>"
            ],
            "image/png": "[encoded data removed]"
          },
          "metadata": {},
          "execution_count": 52
        }
      ]
    },
    {
      "cell_type": "code",
      "source": [
        "history = model.fit(x_train, y_train, validation_data=(x_val, y_val), epochs=7, batch_size=50)\n",
        "\n",
        "print(history.history.keys())\n",
        "# Plot of accuracy in each epoch\n",
        "plt.plot(history.history['acc'])\n",
        "plt.plot(history.history['val_acc'])\n",
        "plt.title('model accuracy')\n",
        "plt.ylabel('accuracy')\n",
        "plt.xlabel('epoch')\n",
        "plt.legend(['train', 'validation'], loc='upper left')\n",
        "plt.show()\n",
        "# Plot of loss in each epoch\n",
        "plt.plot(history.history['loss'])\n",
        "plt.plot(history.history['val_loss'])\n",
        "plt.title('model loss')\n",
        "plt.ylabel('loss')\n",
        "plt.xlabel('epoch')\n",
        "plt.legend(['train', 'validation'], loc='upper left')\n",
        "plt.show()"
      ],
      "metadata": {
        "colab": {
          "base_uri": "https://localhost:8080/",
          "height": 833
        },
        "id": "XWHZCEwR6CTi",
        "outputId": "f02dddc5-49f5-4888-b26f-6b8ef87924f0"
      },
      "execution_count": 53,
      "outputs": [
        {
          "output_type": "stream",
          "name": "stdout",
          "text": [
            "Epoch 1/7\n",
            "353/353 [==============================] - 376s 1s/step - loss: 0.2312 - acc: 0.9283 - val_loss: 0.1976 - val_acc: 0.9284\n",
            "Epoch 2/7\n",
            "353/353 [==============================] - 367s 1s/step - loss: 0.1684 - acc: 0.9338 - val_loss: 0.1565 - val_acc: 0.9374\n",
            "Epoch 3/7\n",
            "353/353 [==============================] - 371s 1s/step - loss: 0.1455 - acc: 0.9411 - val_loss: 0.1419 - val_acc: 0.9451\n",
            "Epoch 4/7\n",
            "353/353 [==============================] - 366s 1s/step - loss: 0.1300 - acc: 0.9466 - val_loss: 0.1494 - val_acc: 0.9383\n",
            "Epoch 5/7\n",
            "353/353 [==============================] - 371s 1s/step - loss: 0.1182 - acc: 0.9515 - val_loss: 0.1441 - val_acc: 0.9442\n",
            "Epoch 6/7\n",
            "353/353 [==============================] - 369s 1s/step - loss: 0.0996 - acc: 0.9569 - val_loss: 0.1485 - val_acc: 0.9461\n",
            "Epoch 7/7\n",
            "353/353 [==============================] - 368s 1s/step - loss: 0.0857 - acc: 0.9627 - val_loss: 0.1571 - val_acc: 0.9465\n",
            "dict_keys(['loss', 'acc', 'val_loss', 'val_acc'])\n"
          ]
        },
        {
          "output_type": "display_data",
          "data": {
            "text/plain": [
              "<Figure size 432x288 with 1 Axes>"
            ],
            "image/png": "[encoded data removed]"
          },
          "metadata": {
            "needs_background": "light"
          }
        },
        {
          "output_type": "display_data",
          "data": {
            "text/plain": [
              "<Figure size 432x288 with 1 Axes>"
            ],
            "image/png": "[encoded data removed]"
          },
          "metadata": {
            "needs_background": "light"
          }
        }
      ]
    },
    {
      "cell_type": "code",
      "source": [
        "loss, acc = model.evaluate(x_test,y_test)\n",
        "print(\"Test set accuracy: \",acc)\n",
        "print(\"Test set loss: \", loss)"
      ],
      "metadata": {
        "colab": {
          "base_uri": "https://localhost:8080/"
        },
        "id": "mzJe9E6qE7Bc",
        "outputId": "22d0befc-b41a-4695-962b-3fd212cc164f"
      },
      "execution_count": 54,
      "outputs": [
        {
          "output_type": "stream",
          "name": "stdout",
          "text": [
            "69/69 [==============================] - 17s 246ms/step - loss: 0.1656 - acc: 0.9406\n",
            "Test set accuracy:  0.9406164884567261\n",
            "Test set loss:  0.16560952365398407\n"
          ]
        }
      ]
    }
  ]
}